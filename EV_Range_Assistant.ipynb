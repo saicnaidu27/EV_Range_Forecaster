{
 "cells": [
  {
   "cell_type": "code",
   "execution_count": null,
   "id": "9099b53a",
   "metadata": {},
   "outputs": [],
   "source": [
    "# ======================================\n",
    "# 🔹 AI Chatbot Assistant Section\n",
    "# ======================================\n",
    "st.header(\"🤖 EV Chat Assistant\")\n",
    "\n",
    "user_question = st.text_input(\"Ask anything about Electric Vehicles:\")\n",
    "\n",
    "if user_question:\n",
    "    from openai import OpenAI\n",
    "    import os\n",
    "\n",
    "    # Fetch key from Streamlit secrets or environment\n",
    "    OPENAI_API_KEY = st.secrets.get(\"OPENAI_API_KEY\") or os.getenv(\"OPENAI_API_KEY\")\n",
    "\n",
    "    if not OPENAI_API_KEY:\n",
    "        st.error(\"⚠️ OpenAI API key not found. Please add it in secrets.toml or environment variables.\")\n",
    "    else:\n",
    "        client = OpenAI(api_key=OPENAI_API_KEY)\n",
    "\n",
    "        with st.spinner(\"Thinking...\"):\n",
    "            response = client.chat.completions.create(\n",
    "                model=\"gpt-4o-mini\",\n",
    "                messages=[\n",
    "                    {\"role\": \"system\", \"content\": \"You are an EV expert helping users understand battery range, specs, and charging.\"},\n",
    "                    {\"role\": \"user\", \"content\": user_question}\n",
    "                ]\n",
    "            )\n",
    "        st.success(\"AI Assistant Response:\")\n",
    "        st.write(response.choices[0].message.content)\n"
   ]
  },
  {
   "cell_type": "code",
   "execution_count": null,
   "id": "f8893d6f-9243-4afd-9c59-f052476ee9b9",
   "metadata": {},
   "outputs": [],
   "source": []
  }
 ],
 "metadata": {
  "kernelspec": {
   "display_name": "Python 3 (ipykernel)",
   "language": "python",
   "name": "python3"
  },
  "language_info": {
   "codemirror_mode": {
    "name": "ipython",
    "version": 3
   },
   "file_extension": ".py",
   "mimetype": "text/x-python",
   "name": "python",
   "nbconvert_exporter": "python",
   "pygments_lexer": "ipython3",
   "version": "3.13.7"
  }
 },
 "nbformat": 4,
 "nbformat_minor": 5
}
